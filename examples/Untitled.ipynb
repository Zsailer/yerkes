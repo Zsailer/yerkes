{
 "cells": [
  {
   "cell_type": "code",
   "execution_count": 74,
   "metadata": {},
   "outputs": [],
   "source": [
    "import pandas as pd\n",
    "import altair as alt\n",
    "\n",
    "palette = {\n",
    "    \"turquoise\": \"#1abc9c\",\n",
    "    \"green_sea\": \"#16a085\",\n",
    "    \"sun_flower\": \"#f1c40f\",\n",
    "    \"orange\": \"#f39c12\",\n",
    "    \"emerland\": \"#2ecc71\",\n",
    "    \"nephritis\": \"#27ae60\",\n",
    "    \"carrot\": \"#e67e22\",\n",
    "    \"pumpkin\": \"#d35400\",\n",
    "    \"peter_river\":\"#3498db\",\n",
    "#     \"belize_hole\": \"#2980b9\",\n",
    "#     \"alizarin\": \"#e74c3c\",\n",
    "#     \"pomegranate\": \"#c0392b\",\n",
    "#     \"amethyst\": \"#af7ac4\",\n",
    "#     \"wisteria\": \"#8e44ad\",\n",
    "#     \"clouds\": \"#ecf0f1\",\n",
    "#     \"silver\": \"#bdc3c7\",\n",
    "#     \"wet_asphalt\": \"#34495e\",\n",
    "#     \"midnight_blue\": \"#2c3e50\",\n",
    "#     \"concrete\": \"#aab7b7\",\n",
    "#     \"asbestos\": \"#98a3a3\"\n",
    "}\n",
    "\n",
    "df = pd.DataFrame.from_dict(palette, orient='index')\n",
    "df = df.reset_index()\n",
    "df.columns = [\"color\", \"code\"]"
   ]
  },
  {
   "cell_type": "code",
   "execution_count": 92,
   "metadata": {},
   "outputs": [
    {
     "data": {
      "application/vnd.vegalite.v2+json": {
       "$schema": "https://vega.github.io/schema/vega-lite/v2.4.3.json",
       "config": {
        "view": {
         "height": 300,
         "width": 400
        }
       },
       "data": {
        "values": [
         {
          "code": "#1abc9c",
          "color": "turquoise"
         },
         {
          "code": "#16a085",
          "color": "green_sea"
         },
         {
          "code": "#f1c40f",
          "color": "sun_flower"
         },
         {
          "code": "#f39c12",
          "color": "orange"
         },
         {
          "code": "#2ecc71",
          "color": "emerland"
         },
         {
          "code": "#27ae60",
          "color": "nephritis"
         },
         {
          "code": "#e67e22",
          "color": "carrot"
         },
         {
          "code": "#d35400",
          "color": "pumpkin"
         },
         {
          "code": "#3498db",
          "color": "peter_river"
         }
        ]
       },
       "encoding": {
        "color": {
         "field": "code",
         "legend": null,
         "type": "nominal"
        },
        "tooltip": [
         {
          "field": "color",
          "type": "nominal"
         },
         {
          "field": "code",
          "type": "nominal"
         }
        ],
        "x": {
         "axis": null,
         "field": "color",
         "scale": {
          "padding": 0,
          "zero": false
         },
         "type": "nominal"
        }
       },
       "height": 100,
       "mark": "rect",
       "width": 900
      },
      "image/png": "[encoded data removed]",
      "text/plain": [
       "<VegaLite 2 object>\n",
       "\n",
       "If you see this message, it means the renderer has not been properly enabled\n",
       "for the frontend that you are using. For more information, see\n",
       "https://altair-viz.github.io/user_guide/troubleshooting.html\n"
      ]
     },
     "execution_count": 92,
     "metadata": {},
     "output_type": "execute_result"
    }
   ],
   "source": [
    "size = 100\n",
    "\n",
    "alt.Chart(df).mark_rect(\n",
    "\n",
    ").encode(\n",
    "    x=alt.X(\"color\", scale=alt.Scale(zero=False, padding=0), axis=None),\n",
    "    color=alt.Color(\"code\", legend=None),\n",
    "    tooltip=[\"color\", \"code\"]\n",
    ").properties(\n",
    "    width=len(df)*size,\n",
    "    height=size\n",
    ")"
   ]
  },
  {
   "cell_type": "code",
   "execution_count": 1,
   "metadata": {},
   "outputs": [],
   "source": [
    "import yerkes"
   ]
  },
  {
   "cell_type": "code",
   "execution_count": 2,
   "metadata": {},
   "outputs": [
    {
     "data": {
      "application/vnd.vegalite.v2+json": {
       "$schema": "https://vega.github.io/schema/vega-lite/v2.4.3.json",
       "config": {
        "view": {
         "height": 300,
         "width": 400
        }
       },
       "data": {
        "values": [
         {
          "hex": "#000004"
         },
         {
          "hex": "#1B0C41"
         },
         {
          "hex": "#4C0C6B"
         },
         {
          "hex": "#781C6D"
         },
         {
          "hex": "#A52C60"
         },
         {
          "hex": "#CF4446"
         },
         {
          "hex": "#ED6925"
         },
         {
          "hex": "#FB9906"
         },
         {
          "hex": "#F7D13D"
         },
         {
          "hex": "#FCFFA4"
         }
        ]
       },
       "encoding": {
        "color": {
         "field": "hex",
         "legend": null,
         "type": "nominal"
        },
        "tooltip": [
         {
          "field": "hex",
          "type": "nominal"
         }
        ],
        "x": {
         "axis": null,
         "field": "hex",
         "scale": {
          "padding": 0,
          "zero": false
         },
         "type": "nominal"
        }
       },
       "height": 50,
       "mark": "rect",
       "width": 500
      },
      "image/png": "[encoded data removed]",
      "text/plain": [
       "<VegaLite 2 object>\n",
       "\n",
       "If you see this message, it means the renderer has not been properly enabled\n",
       "for the frontend that you are using. For more information, see\n",
       "https://altair-viz.github.io/user_guide/troubleshooting.html\n"
      ]
     },
     "execution_count": 2,
     "metadata": {},
     "output_type": "execute_result"
    }
   ],
   "source": [
    "yerkes."
   ]
  },
  {
   "cell_type": "code",
   "execution_count": 3,
   "metadata": {},
   "outputs": [],
   "source": [
    "from palettable.matplotlib import Inferno_11_r"
   ]
  },
  {
   "cell_type": "code",
   "execution_count": 5,
   "metadata": {},
   "outputs": [
    {
     "data": {
      "text/plain": [
       "['#FCFFA4',\n",
       " '#F6D746',\n",
       " '#FCA50A',\n",
       " '#F3761B',\n",
       " '#DD513A',\n",
       " '#BC3754',\n",
       " '#932667',\n",
       " '#6A176E',\n",
       " '#420A68',\n",
       " '#180C3C',\n",
       " '#000004']"
      ]
     },
     "execution_count": 5,
     "metadata": {},
     "output_type": "execute_result"
    }
   ],
   "source": [
    "Inferno_11_r.hex_colors"
   ]
  },
  {
   "cell_type": "code",
   "execution_count": 6,
   "metadata": {},
   "outputs": [],
   "source": [
    "from palettable import matplotlib"
   ]
  },
  {
   "cell_type": "code",
   "execution_count": 8,
   "metadata": {},
   "outputs": [
    {
     "ename": "TypeError",
     "evalue": "'module' object is not iterable",
     "output_type": "error",
     "traceback": [
      "\u001b[0;31m---------------------------------------------------------------------------\u001b[0m",
      "\u001b[0;31mTypeError\u001b[0m                                 Traceback (most recent call last)",
      "\u001b[0;32m<ipython-input-8-e4b4629a4e78>\u001b[0m in \u001b[0;36m<module>\u001b[0;34m()\u001b[0m\n\u001b[0;32m----> 1\u001b[0;31m \u001b[0;32mfor\u001b[0m \u001b[0mobj\u001b[0m \u001b[0;32min\u001b[0m \u001b[0mmatplotlib\u001b[0m\u001b[0;34m:\u001b[0m\u001b[0;34m\u001b[0m\u001b[0m\n\u001b[0m\u001b[1;32m      2\u001b[0m     \u001b[0mprint\u001b[0m\u001b[0;34m(\u001b[0m\u001b[0mobj\u001b[0m\u001b[0;34m)\u001b[0m\u001b[0;34m\u001b[0m\u001b[0m\n",
      "\u001b[0;31mTypeError\u001b[0m: 'module' object is not iterable"
     ]
    }
   ],
   "source": [
    "for obj in matplotlib:\n",
    "    print(obj)"
   ]
  },
  {
   "cell_type": "code",
   "execution_count": 12,
   "metadata": {},
   "outputs": [],
   "source": [
    "import palettable"
   ]
  },
  {
   "cell_type": "code",
   "execution_count": 16,
   "metadata": {},
   "outputs": [
    {
     "data": {
      "text/plain": [
       "\u001b[0;31mInit signature:\u001b[0m \u001b[0mtype\u001b[0m\u001b[0;34m(\u001b[0m\u001b[0mself\u001b[0m\u001b[0;34m,\u001b[0m \u001b[0;34m/\u001b[0m\u001b[0;34m,\u001b[0m \u001b[0;34m*\u001b[0m\u001b[0margs\u001b[0m\u001b[0;34m,\u001b[0m \u001b[0;34m**\u001b[0m\u001b[0mkwargs\u001b[0m\u001b[0;34m)\u001b[0m\u001b[0;34m\u001b[0m\u001b[0m\n",
       "\u001b[0;31mDocstring:\u001b[0m     \n",
       "type(object_or_name, bases, dict)\n",
       "type(object) -> the object's type\n",
       "type(name, bases, dict) -> a new type\n",
       "\u001b[0;31mType:\u001b[0m           type\n"
      ]
     },
     "metadata": {},
     "output_type": "display_data"
    }
   ],
   "source": [
    "type?"
   ]
  },
  {
   "cell_type": "code",
   "execution_count": 15,
   "metadata": {},
   "outputs": [
    {
     "name": "stdout",
     "output_type": "stream",
     "text": [
      "__builtins__\n",
      "__cached__\n",
      "__doc__\n",
      "__file__\n",
      "__loader__\n",
      "__name__\n",
      "__package__\n",
      "__path__\n",
      "__spec__\n",
      "__version__\n",
      "absolute_import\n",
      "cartocolors\n",
      "cmocean\n",
      "colorbrewer\n",
      "cubehelix\n",
      "matplotlib\n",
      "mycarta\n",
      "palette\n",
      "tableau\n",
      "utils\n",
      "version\n",
      "wesanderson\n"
     ]
    }
   ],
   "source": [
    "for source in dir(palettable):\n",
    "    \n",
    "    for palette in dir(source):\n",
    "        \n",
    "        try: \n",
    "            \n",
    "    print(source)"
   ]
  },
  {
   "cell_type": "code",
   "execution_count": 11,
   "metadata": {},
   "outputs": [
    {
     "data": {
      "text/plain": [
       "['Inferno_10',\n",
       " 'Inferno_10_r',\n",
       " 'Inferno_11',\n",
       " 'Inferno_11_r',\n",
       " 'Inferno_12',\n",
       " 'Inferno_12_r',\n",
       " 'Inferno_13',\n",
       " 'Inferno_13_r',\n",
       " 'Inferno_14',\n",
       " 'Inferno_14_r',\n",
       " 'Inferno_15',\n",
       " 'Inferno_15_r',\n",
       " 'Inferno_16',\n",
       " 'Inferno_16_r',\n",
       " 'Inferno_17',\n",
       " 'Inferno_17_r',\n",
       " 'Inferno_18',\n",
       " 'Inferno_18_r',\n",
       " 'Inferno_19',\n",
       " 'Inferno_19_r',\n",
       " 'Inferno_20',\n",
       " 'Inferno_20_r',\n",
       " 'Inferno_3',\n",
       " 'Inferno_3_r',\n",
       " 'Inferno_4',\n",
       " 'Inferno_4_r',\n",
       " 'Inferno_5',\n",
       " 'Inferno_5_r',\n",
       " 'Inferno_6',\n",
       " 'Inferno_6_r',\n",
       " 'Inferno_7',\n",
       " 'Inferno_7_r',\n",
       " 'Inferno_8',\n",
       " 'Inferno_8_r',\n",
       " 'Inferno_9',\n",
       " 'Inferno_9_r',\n",
       " 'Magma_10',\n",
       " 'Magma_10_r',\n",
       " 'Magma_11',\n",
       " 'Magma_11_r',\n",
       " 'Magma_12',\n",
       " 'Magma_12_r',\n",
       " 'Magma_13',\n",
       " 'Magma_13_r',\n",
       " 'Magma_14',\n",
       " 'Magma_14_r',\n",
       " 'Magma_15',\n",
       " 'Magma_15_r',\n",
       " 'Magma_16',\n",
       " 'Magma_16_r',\n",
       " 'Magma_17',\n",
       " 'Magma_17_r',\n",
       " 'Magma_18',\n",
       " 'Magma_18_r',\n",
       " 'Magma_19',\n",
       " 'Magma_19_r',\n",
       " 'Magma_20',\n",
       " 'Magma_20_r',\n",
       " 'Magma_3',\n",
       " 'Magma_3_r',\n",
       " 'Magma_4',\n",
       " 'Magma_4_r',\n",
       " 'Magma_5',\n",
       " 'Magma_5_r',\n",
       " 'Magma_6',\n",
       " 'Magma_6_r',\n",
       " 'Magma_7',\n",
       " 'Magma_7_r',\n",
       " 'Magma_8',\n",
       " 'Magma_8_r',\n",
       " 'Magma_9',\n",
       " 'Magma_9_r',\n",
       " 'Plasma_10',\n",
       " 'Plasma_10_r',\n",
       " 'Plasma_11',\n",
       " 'Plasma_11_r',\n",
       " 'Plasma_12',\n",
       " 'Plasma_12_r',\n",
       " 'Plasma_13',\n",
       " 'Plasma_13_r',\n",
       " 'Plasma_14',\n",
       " 'Plasma_14_r',\n",
       " 'Plasma_15',\n",
       " 'Plasma_15_r',\n",
       " 'Plasma_16',\n",
       " 'Plasma_16_r',\n",
       " 'Plasma_17',\n",
       " 'Plasma_17_r',\n",
       " 'Plasma_18',\n",
       " 'Plasma_18_r',\n",
       " 'Plasma_19',\n",
       " 'Plasma_19_r',\n",
       " 'Plasma_20',\n",
       " 'Plasma_20_r',\n",
       " 'Plasma_3',\n",
       " 'Plasma_3_r',\n",
       " 'Plasma_4',\n",
       " 'Plasma_4_r',\n",
       " 'Plasma_5',\n",
       " 'Plasma_5_r',\n",
       " 'Plasma_6',\n",
       " 'Plasma_6_r',\n",
       " 'Plasma_7',\n",
       " 'Plasma_7_r',\n",
       " 'Plasma_8',\n",
       " 'Plasma_8_r',\n",
       " 'Plasma_9',\n",
       " 'Plasma_9_r',\n",
       " 'Viridis_10',\n",
       " 'Viridis_10_r',\n",
       " 'Viridis_11',\n",
       " 'Viridis_11_r',\n",
       " 'Viridis_12',\n",
       " 'Viridis_12_r',\n",
       " 'Viridis_13',\n",
       " 'Viridis_13_r',\n",
       " 'Viridis_14',\n",
       " 'Viridis_14_r',\n",
       " 'Viridis_15',\n",
       " 'Viridis_15_r',\n",
       " 'Viridis_16',\n",
       " 'Viridis_16_r',\n",
       " 'Viridis_17',\n",
       " 'Viridis_17_r',\n",
       " 'Viridis_18',\n",
       " 'Viridis_18_r',\n",
       " 'Viridis_19',\n",
       " 'Viridis_19_r',\n",
       " 'Viridis_20',\n",
       " 'Viridis_20_r',\n",
       " 'Viridis_3',\n",
       " 'Viridis_3_r',\n",
       " 'Viridis_4',\n",
       " 'Viridis_4_r',\n",
       " 'Viridis_5',\n",
       " 'Viridis_5_r',\n",
       " 'Viridis_6',\n",
       " 'Viridis_6_r',\n",
       " 'Viridis_7',\n",
       " 'Viridis_7_r',\n",
       " 'Viridis_8',\n",
       " 'Viridis_8_r',\n",
       " 'Viridis_9',\n",
       " 'Viridis_9_r',\n",
       " '_NAMES_AND_LENGTHS',\n",
       " '__builtins__',\n",
       " '__cached__',\n",
       " '__doc__',\n",
       " '__file__',\n",
       " '__loader__',\n",
       " '__name__',\n",
       " '__package__',\n",
       " '__path__',\n",
       " '__spec__',\n",
       " 'absolute_import',\n",
       " 'colormaps',\n",
       " 'get_map',\n",
       " 'matplotlib',\n",
       " 'print_maps',\n",
       " 'utils']"
      ]
     },
     "execution_count": 11,
     "metadata": {},
     "output_type": "execute_result"
    }
   ],
   "source": [
    "dir(matplotlib)"
   ]
  },
  {
   "cell_type": "code",
   "execution_count": 9,
   "metadata": {},
   "outputs": [
    {
     "data": {
      "text/plain": [
       "__main__.TestClass"
      ]
     },
     "execution_count": 9,
     "metadata": {},
     "output_type": "execute_result"
    }
   ],
   "source": [
    "type(\"TestClass\", (object,), {})"
   ]
  },
  {
   "cell_type": "code",
   "execution_count": 8,
   "metadata": {},
   "outputs": [
    {
     "data": {
      "text/plain": [
       "\u001b[0;31mInit signature:\u001b[0m \u001b[0mtype\u001b[0m\u001b[0;34m(\u001b[0m\u001b[0mself\u001b[0m\u001b[0;34m,\u001b[0m \u001b[0;34m/\u001b[0m\u001b[0;34m,\u001b[0m \u001b[0;34m*\u001b[0m\u001b[0margs\u001b[0m\u001b[0;34m,\u001b[0m \u001b[0;34m**\u001b[0m\u001b[0mkwargs\u001b[0m\u001b[0;34m)\u001b[0m\u001b[0;34m\u001b[0m\u001b[0m\n",
       "\u001b[0;31mDocstring:\u001b[0m     \n",
       "type(object_or_name, bases, dict)\n",
       "type(object) -> the object's type\n",
       "type(name, bases, dict) -> a new type\n",
       "\u001b[0;31mType:\u001b[0m           type\n"
      ]
     },
     "metadata": {},
     "output_type": "display_data"
    }
   ],
   "source": []
  },
  {
   "cell_type": "code",
   "execution_count": null,
   "metadata": {},
   "outputs": [],
   "source": []
  }
 ],
 "metadata": {
  "kernelspec": {
   "display_name": "omnipotent (Python 3.6)",
   "language": "python",
   "name": "omnipotent"
  },
  "language_info": {
   "codemirror_mode": {
    "name": "ipython",
    "version": 3
   },
   "file_extension": ".py",
   "mimetype": "text/x-python",
   "name": "python",
   "nbconvert_exporter": "python",
   "pygments_lexer": "ipython3",
   "version": "3.6.5"
  }
 },
 "nbformat": 4,
 "nbformat_minor": 2
}
