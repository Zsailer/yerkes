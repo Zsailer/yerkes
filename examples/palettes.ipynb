{
 "cells": [
  {
   "cell_type": "code",
   "execution_count": 3,
   "metadata": {},
   "outputs": [
    {
     "data": {
      "application/vnd.vegalite.v2+json": {
       "$schema": "https://vega.github.io/schema/vega-lite/v2.4.3.json",
       "config": {
        "view": {
         "height": 300,
         "width": 400
        }
       },
       "data": {
        "values": [
         {
          "hex": "#67001F"
         },
         {
          "hex": "#B2182B"
         },
         {
          "hex": "#D6604D"
         },
         {
          "hex": "#F4A582"
         },
         {
          "hex": "#FDDBC7"
         },
         {
          "hex": "#E0E0E0"
         },
         {
          "hex": "#BABABA"
         },
         {
          "hex": "#878787"
         },
         {
          "hex": "#4D4D4D"
         },
         {
          "hex": "#1A1A1A"
         }
        ]
       },
       "encoding": {
        "color": {
         "field": "hex",
         "legend": null,
         "scale": {
          "range": [
           "#67001F",
           "#B2182B",
           "#D6604D",
           "#F4A582",
           "#FDDBC7",
           "#E0E0E0",
           "#BABABA",
           "#878787",
           "#4D4D4D",
           "#1A1A1A"
          ]
         },
         "type": "nominal"
        },
        "tooltip": [
         {
          "field": "hex",
          "type": "nominal"
         }
        ],
        "x": {
         "axis": null,
         "field": "hex",
         "scale": {
          "padding": 0,
          "zero": false
         },
         "type": "nominal"
        }
       },
       "height": 50,
       "mark": "rect",
       "width": 500
      },
      "image/png": "[encoded data removed]",
      "text/plain": [
       "<VegaLite 2 object>\n",
       "\n",
       "If you see this message, it means the renderer has not been properly enabled\n",
       "for the frontend that you are using. For more information, see\n",
       "https://altair-viz.github.io/user_guide/troubleshooting.html\n"
      ]
     },
     "execution_count": 3,
     "metadata": {},
     "output_type": "execute_result"
    }
   ],
   "source": [
    "# Import palette\n",
    "from yerkes import NewPalette\n",
    "\n",
    "# Import a palette from palettable.\n",
    "from palettable.colorbrewer.diverging import RdGy_10 as palette\n",
    "\n",
    "# Show interactive palette\n",
    "NewPalette(palette.hex_colors)"
   ]
  },
  {
   "cell_type": "code",
   "execution_count": null,
   "metadata": {},
   "outputs": [],
   "source": []
  }
 ],
 "metadata": {
  "kernelspec": {
   "display_name": "omnipotent (Python 3.6)",
   "language": "python",
   "name": "omnipotent"
  },
  "language_info": {
   "codemirror_mode": {
    "name": "ipython",
    "version": 3
   },
   "file_extension": ".py",
   "mimetype": "text/x-python",
   "name": "python",
   "nbconvert_exporter": "python",
   "pygments_lexer": "ipython3",
   "version": "3.6.5"
  }
 },
 "nbformat": 4,
 "nbformat_minor": 2
}
